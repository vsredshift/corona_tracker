{
 "cells": [
  {
   "cell_type": "code",
   "execution_count": 1,
   "metadata": {},
   "outputs": [],
   "source": [
    "import matplotlib.pyplot as plt\n",
    "import pandas as pd\n",
    "import numpy as np\n",
    "%matplotlib inline\n",
    "\n",
    "raw_data = pd.read_csv('countries.csv')"
   ]
  },
  {
   "cell_type": "markdown",
   "metadata": {},
   "source": [
    "###### Filtering and Cleaning"
   ]
  },
  {
   "cell_type": "code",
   "execution_count": 2,
   "metadata": {},
   "outputs": [
    {
     "name": "stdout",
     "output_type": "stream",
     "text": [
      "Index(['Unnamed: 0', 'Country', 'Total Cases', 'Total Deaths',\n",
      "       'Total Recovered', 'Active Cases', 'Critical Cases',\n",
      "       'Total Cases per Million', 'Total Deaths per Million', 'Continent'],\n",
      "      dtype='object')\n"
     ]
    },
    {
     "data": {
      "text/html": [
       "<div>\n",
       "<style scoped>\n",
       "    .dataframe tbody tr th:only-of-type {\n",
       "        vertical-align: middle;\n",
       "    }\n",
       "\n",
       "    .dataframe tbody tr th {\n",
       "        vertical-align: top;\n",
       "    }\n",
       "\n",
       "    .dataframe thead th {\n",
       "        text-align: right;\n",
       "    }\n",
       "</style>\n",
       "<table border=\"1\" class=\"dataframe\">\n",
       "  <thead>\n",
       "    <tr style=\"text-align: right;\">\n",
       "      <th></th>\n",
       "      <th>Unnamed: 0</th>\n",
       "      <th>Country</th>\n",
       "      <th>Total Cases</th>\n",
       "      <th>Total Deaths</th>\n",
       "      <th>Total Recovered</th>\n",
       "      <th>Active Cases</th>\n",
       "      <th>Critical Cases</th>\n",
       "      <th>Total Cases per Million</th>\n",
       "      <th>Total Deaths per Million</th>\n",
       "      <th>Continent</th>\n",
       "    </tr>\n",
       "  </thead>\n",
       "  <tbody>\n",
       "    <tr>\n",
       "      <th>0</th>\n",
       "      <td>0</td>\n",
       "      <td>USA</td>\n",
       "      <td>30482127</td>\n",
       "      <td>554871.0</td>\n",
       "      <td>22683617.0</td>\n",
       "      <td>7243639.0</td>\n",
       "      <td>8732.0</td>\n",
       "      <td>91705</td>\n",
       "      <td>1669.0</td>\n",
       "      <td>North America</td>\n",
       "    </tr>\n",
       "    <tr>\n",
       "      <th>1</th>\n",
       "      <td>1</td>\n",
       "      <td>Brazil</td>\n",
       "      <td>11950459</td>\n",
       "      <td>292856.0</td>\n",
       "      <td>10419393.0</td>\n",
       "      <td>1238210.0</td>\n",
       "      <td>8318.0</td>\n",
       "      <td>55937</td>\n",
       "      <td>1371.0</td>\n",
       "      <td>South America</td>\n",
       "    </tr>\n",
       "    <tr>\n",
       "      <th>2</th>\n",
       "      <td>2</td>\n",
       "      <td>India</td>\n",
       "      <td>11599130</td>\n",
       "      <td>159790.0</td>\n",
       "      <td>11130288.0</td>\n",
       "      <td>309052.0</td>\n",
       "      <td>8944.0</td>\n",
       "      <td>8346</td>\n",
       "      <td>115.0</td>\n",
       "      <td>Asia</td>\n",
       "    </tr>\n",
       "    <tr>\n",
       "      <th>3</th>\n",
       "      <td>3</td>\n",
       "      <td>Russia</td>\n",
       "      <td>4456869</td>\n",
       "      <td>95030.0</td>\n",
       "      <td>4069395.0</td>\n",
       "      <td>292444.0</td>\n",
       "      <td>2300.0</td>\n",
       "      <td>30531</td>\n",
       "      <td>651.0</td>\n",
       "      <td>Europe</td>\n",
       "    </tr>\n",
       "    <tr>\n",
       "      <th>4</th>\n",
       "      <td>4</td>\n",
       "      <td>UK</td>\n",
       "      <td>4291271</td>\n",
       "      <td>126122.0</td>\n",
       "      <td>3650226.0</td>\n",
       "      <td>514923.0</td>\n",
       "      <td>830.0</td>\n",
       "      <td>62976</td>\n",
       "      <td>1851.0</td>\n",
       "      <td>Europe</td>\n",
       "    </tr>\n",
       "  </tbody>\n",
       "</table>\n",
       "</div>"
      ],
      "text/plain": [
       "   Unnamed: 0 Country  Total Cases  Total Deaths  Total Recovered  \\\n",
       "0           0     USA     30482127      554871.0       22683617.0   \n",
       "1           1  Brazil     11950459      292856.0       10419393.0   \n",
       "2           2   India     11599130      159790.0       11130288.0   \n",
       "3           3  Russia      4456869       95030.0        4069395.0   \n",
       "4           4      UK      4291271      126122.0        3650226.0   \n",
       "\n",
       "   Active Cases  Critical Cases  Total Cases per Million  \\\n",
       "0     7243639.0          8732.0                    91705   \n",
       "1     1238210.0          8318.0                    55937   \n",
       "2      309052.0          8944.0                     8346   \n",
       "3      292444.0          2300.0                    30531   \n",
       "4      514923.0           830.0                    62976   \n",
       "\n",
       "   Total Deaths per Million      Continent  \n",
       "0                    1669.0  North America  \n",
       "1                    1371.0  South America  \n",
       "2                     115.0           Asia  \n",
       "3                     651.0         Europe  \n",
       "4                    1851.0         Europe  "
      ]
     },
     "execution_count": 2,
     "metadata": {},
     "output_type": "execute_result"
    }
   ],
   "source": [
    "print(raw_data.columns)\n",
    "raw_data.head(5)"
   ]
  },
  {
   "cell_type": "code",
   "execution_count": 3,
   "metadata": {},
   "outputs": [
    {
     "data": {
      "text/plain": [
       "<bound method Series.unique of 0                   USA\n",
       "1                Brazil\n",
       "2                 India\n",
       "3                Russia\n",
       "4                    UK\n",
       "             ...       \n",
       "214    Marshall Islands\n",
       "215               Samoa\n",
       "216             Vanuatu\n",
       "217          Micronesia\n",
       "218               China\n",
       "Name: Country, Length: 219, dtype: object>"
      ]
     },
     "execution_count": 3,
     "metadata": {},
     "output_type": "execute_result"
    }
   ],
   "source": [
    "raw_data['Country'].unique"
   ]
  },
  {
   "cell_type": "code",
   "execution_count": 4,
   "metadata": {},
   "outputs": [],
   "source": [
    "raw_data = raw_data.drop_duplicates('Country')"
   ]
  },
  {
   "cell_type": "code",
   "execution_count": 6,
   "metadata": {},
   "outputs": [
    {
     "data": {
      "text/plain": [
       "219"
      ]
     },
     "execution_count": 6,
     "metadata": {},
     "output_type": "execute_result"
    }
   ],
   "source": []
  },
  {
   "cell_type": "code",
   "execution_count": null,
   "metadata": {},
   "outputs": [],
   "source": []
  }
 ],
 "metadata": {
  "kernelspec": {
   "display_name": "Python 3",
   "language": "python",
   "name": "python3"
  },
  "language_info": {
   "codemirror_mode": {
    "name": "ipython",
    "version": 3
   },
   "file_extension": ".py",
   "mimetype": "text/x-python",
   "name": "python",
   "nbconvert_exporter": "python",
   "pygments_lexer": "ipython3",
   "version": "3.8.5"
  }
 },
 "nbformat": 4,
 "nbformat_minor": 4
}
